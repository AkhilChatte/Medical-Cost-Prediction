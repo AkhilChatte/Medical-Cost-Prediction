{
  "nbformat": 4,
  "nbformat_minor": 0,
  "metadata": {
    "colab": {
      "provenance": [],
      "collapsed_sections": []
    },
    "kernelspec": {
      "name": "python3",
      "display_name": "Python 3"
    },
    "language_info": {
      "name": "python"
    }
  },
  "cells": [
    {
      "cell_type": "markdown",
      "source": [
        "# **Teachnook MajorProject**"
      ],
      "metadata": {
        "id": "D49dFTzzLxb8"
      }
    },
    {
      "cell_type": "markdown",
      "source": [
        "## Step 1. Creating Dataframe"
      ],
      "metadata": {
        "id": "Mr_1yS56MR-7"
      }
    },
    {
      "cell_type": "code",
      "execution_count": 1,
      "metadata": {
        "colab": {
          "base_uri": "https://localhost:8080/",
          "height": 424
        },
        "id": "_ChUNgyr2i8L",
        "outputId": "25aa82a5-12a5-4ec4-feec-121a1e2ac17d"
      },
      "outputs": [
        {
          "output_type": "execute_result",
          "data": {
            "text/plain": [
              "      age     sex     bmi  children smoker     region      charges\n",
              "0      19  female  27.900         0    yes  southwest  16884.92400\n",
              "1      18    male  33.770         1     no  southeast   1725.55230\n",
              "2      28    male  33.000         3     no  southeast   4449.46200\n",
              "3      33    male  22.705         0     no  northwest  21984.47061\n",
              "4      32    male  28.880         0     no  northwest   3866.85520\n",
              "...   ...     ...     ...       ...    ...        ...          ...\n",
              "1333   50    male  30.970         3     no  northwest  10600.54830\n",
              "1334   18  female  31.920         0     no  northeast   2205.98080\n",
              "1335   18  female  36.850         0     no  southeast   1629.83350\n",
              "1336   21  female  25.800         0     no  southwest   2007.94500\n",
              "1337   61  female  29.070         0    yes  northwest  29141.36030\n",
              "\n",
              "[1338 rows x 7 columns]"
            ],
            "text/html": [
              "\n",
              "  <div id=\"df-1257cde2-3f46-4fa6-8d46-e1b25fdbc43f\">\n",
              "    <div class=\"colab-df-container\">\n",
              "      <div>\n",
              "<style scoped>\n",
              "    .dataframe tbody tr th:only-of-type {\n",
              "        vertical-align: middle;\n",
              "    }\n",
              "\n",
              "    .dataframe tbody tr th {\n",
              "        vertical-align: top;\n",
              "    }\n",
              "\n",
              "    .dataframe thead th {\n",
              "        text-align: right;\n",
              "    }\n",
              "</style>\n",
              "<table border=\"1\" class=\"dataframe\">\n",
              "  <thead>\n",
              "    <tr style=\"text-align: right;\">\n",
              "      <th></th>\n",
              "      <th>age</th>\n",
              "      <th>sex</th>\n",
              "      <th>bmi</th>\n",
              "      <th>children</th>\n",
              "      <th>smoker</th>\n",
              "      <th>region</th>\n",
              "      <th>charges</th>\n",
              "    </tr>\n",
              "  </thead>\n",
              "  <tbody>\n",
              "    <tr>\n",
              "      <th>0</th>\n",
              "      <td>19</td>\n",
              "      <td>female</td>\n",
              "      <td>27.900</td>\n",
              "      <td>0</td>\n",
              "      <td>yes</td>\n",
              "      <td>southwest</td>\n",
              "      <td>16884.92400</td>\n",
              "    </tr>\n",
              "    <tr>\n",
              "      <th>1</th>\n",
              "      <td>18</td>\n",
              "      <td>male</td>\n",
              "      <td>33.770</td>\n",
              "      <td>1</td>\n",
              "      <td>no</td>\n",
              "      <td>southeast</td>\n",
              "      <td>1725.55230</td>\n",
              "    </tr>\n",
              "    <tr>\n",
              "      <th>2</th>\n",
              "      <td>28</td>\n",
              "      <td>male</td>\n",
              "      <td>33.000</td>\n",
              "      <td>3</td>\n",
              "      <td>no</td>\n",
              "      <td>southeast</td>\n",
              "      <td>4449.46200</td>\n",
              "    </tr>\n",
              "    <tr>\n",
              "      <th>3</th>\n",
              "      <td>33</td>\n",
              "      <td>male</td>\n",
              "      <td>22.705</td>\n",
              "      <td>0</td>\n",
              "      <td>no</td>\n",
              "      <td>northwest</td>\n",
              "      <td>21984.47061</td>\n",
              "    </tr>\n",
              "    <tr>\n",
              "      <th>4</th>\n",
              "      <td>32</td>\n",
              "      <td>male</td>\n",
              "      <td>28.880</td>\n",
              "      <td>0</td>\n",
              "      <td>no</td>\n",
              "      <td>northwest</td>\n",
              "      <td>3866.85520</td>\n",
              "    </tr>\n",
              "    <tr>\n",
              "      <th>...</th>\n",
              "      <td>...</td>\n",
              "      <td>...</td>\n",
              "      <td>...</td>\n",
              "      <td>...</td>\n",
              "      <td>...</td>\n",
              "      <td>...</td>\n",
              "      <td>...</td>\n",
              "    </tr>\n",
              "    <tr>\n",
              "      <th>1333</th>\n",
              "      <td>50</td>\n",
              "      <td>male</td>\n",
              "      <td>30.970</td>\n",
              "      <td>3</td>\n",
              "      <td>no</td>\n",
              "      <td>northwest</td>\n",
              "      <td>10600.54830</td>\n",
              "    </tr>\n",
              "    <tr>\n",
              "      <th>1334</th>\n",
              "      <td>18</td>\n",
              "      <td>female</td>\n",
              "      <td>31.920</td>\n",
              "      <td>0</td>\n",
              "      <td>no</td>\n",
              "      <td>northeast</td>\n",
              "      <td>2205.98080</td>\n",
              "    </tr>\n",
              "    <tr>\n",
              "      <th>1335</th>\n",
              "      <td>18</td>\n",
              "      <td>female</td>\n",
              "      <td>36.850</td>\n",
              "      <td>0</td>\n",
              "      <td>no</td>\n",
              "      <td>southeast</td>\n",
              "      <td>1629.83350</td>\n",
              "    </tr>\n",
              "    <tr>\n",
              "      <th>1336</th>\n",
              "      <td>21</td>\n",
              "      <td>female</td>\n",
              "      <td>25.800</td>\n",
              "      <td>0</td>\n",
              "      <td>no</td>\n",
              "      <td>southwest</td>\n",
              "      <td>2007.94500</td>\n",
              "    </tr>\n",
              "    <tr>\n",
              "      <th>1337</th>\n",
              "      <td>61</td>\n",
              "      <td>female</td>\n",
              "      <td>29.070</td>\n",
              "      <td>0</td>\n",
              "      <td>yes</td>\n",
              "      <td>northwest</td>\n",
              "      <td>29141.36030</td>\n",
              "    </tr>\n",
              "  </tbody>\n",
              "</table>\n",
              "<p>1338 rows × 7 columns</p>\n",
              "</div>\n",
              "      <button class=\"colab-df-convert\" onclick=\"convertToInteractive('df-1257cde2-3f46-4fa6-8d46-e1b25fdbc43f')\"\n",
              "              title=\"Convert this dataframe to an interactive table.\"\n",
              "              style=\"display:none;\">\n",
              "        \n",
              "  <svg xmlns=\"http://www.w3.org/2000/svg\" height=\"24px\"viewBox=\"0 0 24 24\"\n",
              "       width=\"24px\">\n",
              "    <path d=\"M0 0h24v24H0V0z\" fill=\"none\"/>\n",
              "    <path d=\"M18.56 5.44l.94 2.06.94-2.06 2.06-.94-2.06-.94-.94-2.06-.94 2.06-2.06.94zm-11 1L8.5 8.5l.94-2.06 2.06-.94-2.06-.94L8.5 2.5l-.94 2.06-2.06.94zm10 10l.94 2.06.94-2.06 2.06-.94-2.06-.94-.94-2.06-.94 2.06-2.06.94z\"/><path d=\"M17.41 7.96l-1.37-1.37c-.4-.4-.92-.59-1.43-.59-.52 0-1.04.2-1.43.59L10.3 9.45l-7.72 7.72c-.78.78-.78 2.05 0 2.83L4 21.41c.39.39.9.59 1.41.59.51 0 1.02-.2 1.41-.59l7.78-7.78 2.81-2.81c.8-.78.8-2.07 0-2.86zM5.41 20L4 18.59l7.72-7.72 1.47 1.35L5.41 20z\"/>\n",
              "  </svg>\n",
              "      </button>\n",
              "      \n",
              "  <style>\n",
              "    .colab-df-container {\n",
              "      display:flex;\n",
              "      flex-wrap:wrap;\n",
              "      gap: 12px;\n",
              "    }\n",
              "\n",
              "    .colab-df-convert {\n",
              "      background-color: #E8F0FE;\n",
              "      border: none;\n",
              "      border-radius: 50%;\n",
              "      cursor: pointer;\n",
              "      display: none;\n",
              "      fill: #1967D2;\n",
              "      height: 32px;\n",
              "      padding: 0 0 0 0;\n",
              "      width: 32px;\n",
              "    }\n",
              "\n",
              "    .colab-df-convert:hover {\n",
              "      background-color: #E2EBFA;\n",
              "      box-shadow: 0px 1px 2px rgba(60, 64, 67, 0.3), 0px 1px 3px 1px rgba(60, 64, 67, 0.15);\n",
              "      fill: #174EA6;\n",
              "    }\n",
              "\n",
              "    [theme=dark] .colab-df-convert {\n",
              "      background-color: #3B4455;\n",
              "      fill: #D2E3FC;\n",
              "    }\n",
              "\n",
              "    [theme=dark] .colab-df-convert:hover {\n",
              "      background-color: #434B5C;\n",
              "      box-shadow: 0px 1px 3px 1px rgba(0, 0, 0, 0.15);\n",
              "      filter: drop-shadow(0px 1px 2px rgba(0, 0, 0, 0.3));\n",
              "      fill: #FFFFFF;\n",
              "    }\n",
              "  </style>\n",
              "\n",
              "      <script>\n",
              "        const buttonEl =\n",
              "          document.querySelector('#df-1257cde2-3f46-4fa6-8d46-e1b25fdbc43f button.colab-df-convert');\n",
              "        buttonEl.style.display =\n",
              "          google.colab.kernel.accessAllowed ? 'block' : 'none';\n",
              "\n",
              "        async function convertToInteractive(key) {\n",
              "          const element = document.querySelector('#df-1257cde2-3f46-4fa6-8d46-e1b25fdbc43f');\n",
              "          const dataTable =\n",
              "            await google.colab.kernel.invokeFunction('convertToInteractive',\n",
              "                                                     [key], {});\n",
              "          if (!dataTable) return;\n",
              "\n",
              "          const docLinkHtml = 'Like what you see? Visit the ' +\n",
              "            '<a target=\"_blank\" href=https://colab.research.google.com/notebooks/data_table.ipynb>data table notebook</a>'\n",
              "            + ' to learn more about interactive tables.';\n",
              "          element.innerHTML = '';\n",
              "          dataTable['output_type'] = 'display_data';\n",
              "          await google.colab.output.renderOutput(dataTable, element);\n",
              "          const docLink = document.createElement('div');\n",
              "          docLink.innerHTML = docLinkHtml;\n",
              "          element.appendChild(docLink);\n",
              "        }\n",
              "      </script>\n",
              "    </div>\n",
              "  </div>\n",
              "  "
            ]
          },
          "metadata": {},
          "execution_count": 1
        }
      ],
      "source": [
        "import pandas as pd\n",
        "import numpy as np\n",
        "import matplotlib.pyplot as plt\n",
        "import seaborn as sb\n",
        "df = pd.read_csv(\"https://gist.githubusercontent.com/meperezcuello/82a9f1c1c473d6585e750ad2e3c05a41/raw/d42d226d0dd64e7f5395a0eec1b9190a10edbc03/Medical_Cost.csv\")\n",
        "df"
      ]
    },
    {
      "cell_type": "markdown",
      "source": [
        "## Step 2. Performing Exploratory Data Analysis (EDA)"
      ],
      "metadata": {
        "id": "oobxARPJMmKy"
      }
    },
    {
      "cell_type": "code",
      "source": [
        "df.info()"
      ],
      "metadata": {
        "colab": {
          "base_uri": "https://localhost:8080/"
        },
        "id": "URssOJWj3akp",
        "outputId": "5e4e226a-8672-4e6c-89b2-3b1ded8091a8"
      },
      "execution_count": 2,
      "outputs": [
        {
          "output_type": "stream",
          "name": "stdout",
          "text": [
            "<class 'pandas.core.frame.DataFrame'>\n",
            "RangeIndex: 1338 entries, 0 to 1337\n",
            "Data columns (total 7 columns):\n",
            " #   Column    Non-Null Count  Dtype  \n",
            "---  ------    --------------  -----  \n",
            " 0   age       1338 non-null   int64  \n",
            " 1   sex       1338 non-null   object \n",
            " 2   bmi       1338 non-null   float64\n",
            " 3   children  1338 non-null   int64  \n",
            " 4   smoker    1338 non-null   object \n",
            " 5   region    1338 non-null   object \n",
            " 6   charges   1338 non-null   float64\n",
            "dtypes: float64(2), int64(2), object(3)\n",
            "memory usage: 73.3+ KB\n"
          ]
        }
      ]
    },
    {
      "cell_type": "code",
      "source": [
        "# getting the first 5 rows\n",
        "df.head()"
      ],
      "metadata": {
        "colab": {
          "base_uri": "https://localhost:8080/",
          "height": 206
        },
        "id": "KT9IfxCbgT-n",
        "outputId": "f113a2a2-b3ac-47aa-e043-0461c5f78bb0"
      },
      "execution_count": 3,
      "outputs": [
        {
          "output_type": "execute_result",
          "data": {
            "text/plain": [
              "   age     sex     bmi  children smoker     region      charges\n",
              "0   19  female  27.900         0    yes  southwest  16884.92400\n",
              "1   18    male  33.770         1     no  southeast   1725.55230\n",
              "2   28    male  33.000         3     no  southeast   4449.46200\n",
              "3   33    male  22.705         0     no  northwest  21984.47061\n",
              "4   32    male  28.880         0     no  northwest   3866.85520"
            ],
            "text/html": [
              "\n",
              "  <div id=\"df-a659e4eb-e85e-4c62-b97a-d238e310e214\">\n",
              "    <div class=\"colab-df-container\">\n",
              "      <div>\n",
              "<style scoped>\n",
              "    .dataframe tbody tr th:only-of-type {\n",
              "        vertical-align: middle;\n",
              "    }\n",
              "\n",
              "    .dataframe tbody tr th {\n",
              "        vertical-align: top;\n",
              "    }\n",
              "\n",
              "    .dataframe thead th {\n",
              "        text-align: right;\n",
              "    }\n",
              "</style>\n",
              "<table border=\"1\" class=\"dataframe\">\n",
              "  <thead>\n",
              "    <tr style=\"text-align: right;\">\n",
              "      <th></th>\n",
              "      <th>age</th>\n",
              "      <th>sex</th>\n",
              "      <th>bmi</th>\n",
              "      <th>children</th>\n",
              "      <th>smoker</th>\n",
              "      <th>region</th>\n",
              "      <th>charges</th>\n",
              "    </tr>\n",
              "  </thead>\n",
              "  <tbody>\n",
              "    <tr>\n",
              "      <th>0</th>\n",
              "      <td>19</td>\n",
              "      <td>female</td>\n",
              "      <td>27.900</td>\n",
              "      <td>0</td>\n",
              "      <td>yes</td>\n",
              "      <td>southwest</td>\n",
              "      <td>16884.92400</td>\n",
              "    </tr>\n",
              "    <tr>\n",
              "      <th>1</th>\n",
              "      <td>18</td>\n",
              "      <td>male</td>\n",
              "      <td>33.770</td>\n",
              "      <td>1</td>\n",
              "      <td>no</td>\n",
              "      <td>southeast</td>\n",
              "      <td>1725.55230</td>\n",
              "    </tr>\n",
              "    <tr>\n",
              "      <th>2</th>\n",
              "      <td>28</td>\n",
              "      <td>male</td>\n",
              "      <td>33.000</td>\n",
              "      <td>3</td>\n",
              "      <td>no</td>\n",
              "      <td>southeast</td>\n",
              "      <td>4449.46200</td>\n",
              "    </tr>\n",
              "    <tr>\n",
              "      <th>3</th>\n",
              "      <td>33</td>\n",
              "      <td>male</td>\n",
              "      <td>22.705</td>\n",
              "      <td>0</td>\n",
              "      <td>no</td>\n",
              "      <td>northwest</td>\n",
              "      <td>21984.47061</td>\n",
              "    </tr>\n",
              "    <tr>\n",
              "      <th>4</th>\n",
              "      <td>32</td>\n",
              "      <td>male</td>\n",
              "      <td>28.880</td>\n",
              "      <td>0</td>\n",
              "      <td>no</td>\n",
              "      <td>northwest</td>\n",
              "      <td>3866.85520</td>\n",
              "    </tr>\n",
              "  </tbody>\n",
              "</table>\n",
              "</div>\n",
              "      <button class=\"colab-df-convert\" onclick=\"convertToInteractive('df-a659e4eb-e85e-4c62-b97a-d238e310e214')\"\n",
              "              title=\"Convert this dataframe to an interactive table.\"\n",
              "              style=\"display:none;\">\n",
              "        \n",
              "  <svg xmlns=\"http://www.w3.org/2000/svg\" height=\"24px\"viewBox=\"0 0 24 24\"\n",
              "       width=\"24px\">\n",
              "    <path d=\"M0 0h24v24H0V0z\" fill=\"none\"/>\n",
              "    <path d=\"M18.56 5.44l.94 2.06.94-2.06 2.06-.94-2.06-.94-.94-2.06-.94 2.06-2.06.94zm-11 1L8.5 8.5l.94-2.06 2.06-.94-2.06-.94L8.5 2.5l-.94 2.06-2.06.94zm10 10l.94 2.06.94-2.06 2.06-.94-2.06-.94-.94-2.06-.94 2.06-2.06.94z\"/><path d=\"M17.41 7.96l-1.37-1.37c-.4-.4-.92-.59-1.43-.59-.52 0-1.04.2-1.43.59L10.3 9.45l-7.72 7.72c-.78.78-.78 2.05 0 2.83L4 21.41c.39.39.9.59 1.41.59.51 0 1.02-.2 1.41-.59l7.78-7.78 2.81-2.81c.8-.78.8-2.07 0-2.86zM5.41 20L4 18.59l7.72-7.72 1.47 1.35L5.41 20z\"/>\n",
              "  </svg>\n",
              "      </button>\n",
              "      \n",
              "  <style>\n",
              "    .colab-df-container {\n",
              "      display:flex;\n",
              "      flex-wrap:wrap;\n",
              "      gap: 12px;\n",
              "    }\n",
              "\n",
              "    .colab-df-convert {\n",
              "      background-color: #E8F0FE;\n",
              "      border: none;\n",
              "      border-radius: 50%;\n",
              "      cursor: pointer;\n",
              "      display: none;\n",
              "      fill: #1967D2;\n",
              "      height: 32px;\n",
              "      padding: 0 0 0 0;\n",
              "      width: 32px;\n",
              "    }\n",
              "\n",
              "    .colab-df-convert:hover {\n",
              "      background-color: #E2EBFA;\n",
              "      box-shadow: 0px 1px 2px rgba(60, 64, 67, 0.3), 0px 1px 3px 1px rgba(60, 64, 67, 0.15);\n",
              "      fill: #174EA6;\n",
              "    }\n",
              "\n",
              "    [theme=dark] .colab-df-convert {\n",
              "      background-color: #3B4455;\n",
              "      fill: #D2E3FC;\n",
              "    }\n",
              "\n",
              "    [theme=dark] .colab-df-convert:hover {\n",
              "      background-color: #434B5C;\n",
              "      box-shadow: 0px 1px 3px 1px rgba(0, 0, 0, 0.15);\n",
              "      filter: drop-shadow(0px 1px 2px rgba(0, 0, 0, 0.3));\n",
              "      fill: #FFFFFF;\n",
              "    }\n",
              "  </style>\n",
              "\n",
              "      <script>\n",
              "        const buttonEl =\n",
              "          document.querySelector('#df-a659e4eb-e85e-4c62-b97a-d238e310e214 button.colab-df-convert');\n",
              "        buttonEl.style.display =\n",
              "          google.colab.kernel.accessAllowed ? 'block' : 'none';\n",
              "\n",
              "        async function convertToInteractive(key) {\n",
              "          const element = document.querySelector('#df-a659e4eb-e85e-4c62-b97a-d238e310e214');\n",
              "          const dataTable =\n",
              "            await google.colab.kernel.invokeFunction('convertToInteractive',\n",
              "                                                     [key], {});\n",
              "          if (!dataTable) return;\n",
              "\n",
              "          const docLinkHtml = 'Like what you see? Visit the ' +\n",
              "            '<a target=\"_blank\" href=https://colab.research.google.com/notebooks/data_table.ipynb>data table notebook</a>'\n",
              "            + ' to learn more about interactive tables.';\n",
              "          element.innerHTML = '';\n",
              "          dataTable['output_type'] = 'display_data';\n",
              "          await google.colab.output.renderOutput(dataTable, element);\n",
              "          const docLink = document.createElement('div');\n",
              "          docLink.innerHTML = docLinkHtml;\n",
              "          element.appendChild(docLink);\n",
              "        }\n",
              "      </script>\n",
              "    </div>\n",
              "  </div>\n",
              "  "
            ]
          },
          "metadata": {},
          "execution_count": 3
        }
      ]
    },
    {
      "cell_type": "code",
      "source": [
        "df.describe()"
      ],
      "metadata": {
        "colab": {
          "base_uri": "https://localhost:8080/",
          "height": 300
        },
        "id": "1RCetGW7luNl",
        "outputId": "8c142381-5220-4769-8af8-f5c3fe2ac12e"
      },
      "execution_count": 4,
      "outputs": [
        {
          "output_type": "execute_result",
          "data": {
            "text/plain": [
              "               age          bmi     children       charges\n",
              "count  1338.000000  1338.000000  1338.000000   1338.000000\n",
              "mean     39.207025    30.663397     1.094918  13270.422265\n",
              "std      14.049960     6.098187     1.205493  12110.011237\n",
              "min      18.000000    15.960000     0.000000   1121.873900\n",
              "25%      27.000000    26.296250     0.000000   4740.287150\n",
              "50%      39.000000    30.400000     1.000000   9382.033000\n",
              "75%      51.000000    34.693750     2.000000  16639.912515\n",
              "max      64.000000    53.130000     5.000000  63770.428010"
            ],
            "text/html": [
              "\n",
              "  <div id=\"df-5415b679-0cfe-446c-b072-0d0118b6e54b\">\n",
              "    <div class=\"colab-df-container\">\n",
              "      <div>\n",
              "<style scoped>\n",
              "    .dataframe tbody tr th:only-of-type {\n",
              "        vertical-align: middle;\n",
              "    }\n",
              "\n",
              "    .dataframe tbody tr th {\n",
              "        vertical-align: top;\n",
              "    }\n",
              "\n",
              "    .dataframe thead th {\n",
              "        text-align: right;\n",
              "    }\n",
              "</style>\n",
              "<table border=\"1\" class=\"dataframe\">\n",
              "  <thead>\n",
              "    <tr style=\"text-align: right;\">\n",
              "      <th></th>\n",
              "      <th>age</th>\n",
              "      <th>bmi</th>\n",
              "      <th>children</th>\n",
              "      <th>charges</th>\n",
              "    </tr>\n",
              "  </thead>\n",
              "  <tbody>\n",
              "    <tr>\n",
              "      <th>count</th>\n",
              "      <td>1338.000000</td>\n",
              "      <td>1338.000000</td>\n",
              "      <td>1338.000000</td>\n",
              "      <td>1338.000000</td>\n",
              "    </tr>\n",
              "    <tr>\n",
              "      <th>mean</th>\n",
              "      <td>39.207025</td>\n",
              "      <td>30.663397</td>\n",
              "      <td>1.094918</td>\n",
              "      <td>13270.422265</td>\n",
              "    </tr>\n",
              "    <tr>\n",
              "      <th>std</th>\n",
              "      <td>14.049960</td>\n",
              "      <td>6.098187</td>\n",
              "      <td>1.205493</td>\n",
              "      <td>12110.011237</td>\n",
              "    </tr>\n",
              "    <tr>\n",
              "      <th>min</th>\n",
              "      <td>18.000000</td>\n",
              "      <td>15.960000</td>\n",
              "      <td>0.000000</td>\n",
              "      <td>1121.873900</td>\n",
              "    </tr>\n",
              "    <tr>\n",
              "      <th>25%</th>\n",
              "      <td>27.000000</td>\n",
              "      <td>26.296250</td>\n",
              "      <td>0.000000</td>\n",
              "      <td>4740.287150</td>\n",
              "    </tr>\n",
              "    <tr>\n",
              "      <th>50%</th>\n",
              "      <td>39.000000</td>\n",
              "      <td>30.400000</td>\n",
              "      <td>1.000000</td>\n",
              "      <td>9382.033000</td>\n",
              "    </tr>\n",
              "    <tr>\n",
              "      <th>75%</th>\n",
              "      <td>51.000000</td>\n",
              "      <td>34.693750</td>\n",
              "      <td>2.000000</td>\n",
              "      <td>16639.912515</td>\n",
              "    </tr>\n",
              "    <tr>\n",
              "      <th>max</th>\n",
              "      <td>64.000000</td>\n",
              "      <td>53.130000</td>\n",
              "      <td>5.000000</td>\n",
              "      <td>63770.428010</td>\n",
              "    </tr>\n",
              "  </tbody>\n",
              "</table>\n",
              "</div>\n",
              "      <button class=\"colab-df-convert\" onclick=\"convertToInteractive('df-5415b679-0cfe-446c-b072-0d0118b6e54b')\"\n",
              "              title=\"Convert this dataframe to an interactive table.\"\n",
              "              style=\"display:none;\">\n",
              "        \n",
              "  <svg xmlns=\"http://www.w3.org/2000/svg\" height=\"24px\"viewBox=\"0 0 24 24\"\n",
              "       width=\"24px\">\n",
              "    <path d=\"M0 0h24v24H0V0z\" fill=\"none\"/>\n",
              "    <path d=\"M18.56 5.44l.94 2.06.94-2.06 2.06-.94-2.06-.94-.94-2.06-.94 2.06-2.06.94zm-11 1L8.5 8.5l.94-2.06 2.06-.94-2.06-.94L8.5 2.5l-.94 2.06-2.06.94zm10 10l.94 2.06.94-2.06 2.06-.94-2.06-.94-.94-2.06-.94 2.06-2.06.94z\"/><path d=\"M17.41 7.96l-1.37-1.37c-.4-.4-.92-.59-1.43-.59-.52 0-1.04.2-1.43.59L10.3 9.45l-7.72 7.72c-.78.78-.78 2.05 0 2.83L4 21.41c.39.39.9.59 1.41.59.51 0 1.02-.2 1.41-.59l7.78-7.78 2.81-2.81c.8-.78.8-2.07 0-2.86zM5.41 20L4 18.59l7.72-7.72 1.47 1.35L5.41 20z\"/>\n",
              "  </svg>\n",
              "      </button>\n",
              "      \n",
              "  <style>\n",
              "    .colab-df-container {\n",
              "      display:flex;\n",
              "      flex-wrap:wrap;\n",
              "      gap: 12px;\n",
              "    }\n",
              "\n",
              "    .colab-df-convert {\n",
              "      background-color: #E8F0FE;\n",
              "      border: none;\n",
              "      border-radius: 50%;\n",
              "      cursor: pointer;\n",
              "      display: none;\n",
              "      fill: #1967D2;\n",
              "      height: 32px;\n",
              "      padding: 0 0 0 0;\n",
              "      width: 32px;\n",
              "    }\n",
              "\n",
              "    .colab-df-convert:hover {\n",
              "      background-color: #E2EBFA;\n",
              "      box-shadow: 0px 1px 2px rgba(60, 64, 67, 0.3), 0px 1px 3px 1px rgba(60, 64, 67, 0.15);\n",
              "      fill: #174EA6;\n",
              "    }\n",
              "\n",
              "    [theme=dark] .colab-df-convert {\n",
              "      background-color: #3B4455;\n",
              "      fill: #D2E3FC;\n",
              "    }\n",
              "\n",
              "    [theme=dark] .colab-df-convert:hover {\n",
              "      background-color: #434B5C;\n",
              "      box-shadow: 0px 1px 3px 1px rgba(0, 0, 0, 0.15);\n",
              "      filter: drop-shadow(0px 1px 2px rgba(0, 0, 0, 0.3));\n",
              "      fill: #FFFFFF;\n",
              "    }\n",
              "  </style>\n",
              "\n",
              "      <script>\n",
              "        const buttonEl =\n",
              "          document.querySelector('#df-5415b679-0cfe-446c-b072-0d0118b6e54b button.colab-df-convert');\n",
              "        buttonEl.style.display =\n",
              "          google.colab.kernel.accessAllowed ? 'block' : 'none';\n",
              "\n",
              "        async function convertToInteractive(key) {\n",
              "          const element = document.querySelector('#df-5415b679-0cfe-446c-b072-0d0118b6e54b');\n",
              "          const dataTable =\n",
              "            await google.colab.kernel.invokeFunction('convertToInteractive',\n",
              "                                                     [key], {});\n",
              "          if (!dataTable) return;\n",
              "\n",
              "          const docLinkHtml = 'Like what you see? Visit the ' +\n",
              "            '<a target=\"_blank\" href=https://colab.research.google.com/notebooks/data_table.ipynb>data table notebook</a>'\n",
              "            + ' to learn more about interactive tables.';\n",
              "          element.innerHTML = '';\n",
              "          dataTable['output_type'] = 'display_data';\n",
              "          await google.colab.output.renderOutput(dataTable, element);\n",
              "          const docLink = document.createElement('div');\n",
              "          docLink.innerHTML = docLinkHtml;\n",
              "          element.appendChild(docLink);\n",
              "        }\n",
              "      </script>\n",
              "    </div>\n",
              "  </div>\n",
              "  "
            ]
          },
          "metadata": {},
          "execution_count": 4
        }
      ]
    },
    {
      "cell_type": "code",
      "source": [
        "# checking the number of rows and column\n",
        "df.shape"
      ],
      "metadata": {
        "colab": {
          "base_uri": "https://localhost:8080/"
        },
        "id": "sNCwChln7eJA",
        "outputId": "2ee42cbb-b21d-4c56-b8fb-2eae221b3774"
      },
      "execution_count": 5,
      "outputs": [
        {
          "output_type": "execute_result",
          "data": {
            "text/plain": [
              "(1338, 7)"
            ]
          },
          "metadata": {},
          "execution_count": 5
        }
      ]
    },
    {
      "cell_type": "code",
      "source": [
        "# Checking number of entries in the dataset\n",
        "df.size"
      ],
      "metadata": {
        "colab": {
          "base_uri": "https://localhost:8080/"
        },
        "id": "hBDnrtEy7qVA",
        "outputId": "82eed557-b69d-4457-beb0-ca1187be3c27"
      },
      "execution_count": 6,
      "outputs": [
        {
          "output_type": "execute_result",
          "data": {
            "text/plain": [
              "9366"
            ]
          },
          "metadata": {},
          "execution_count": 6
        }
      ]
    },
    {
      "cell_type": "code",
      "source": [
        "# Checking for null values\n",
        "df.isnull().sum()"
      ],
      "metadata": {
        "colab": {
          "base_uri": "https://localhost:8080/"
        },
        "id": "_VO_6Ccn7vVg",
        "outputId": "3c86f5fb-d7d5-4e81-a088-95af725e8267"
      },
      "execution_count": 7,
      "outputs": [
        {
          "output_type": "execute_result",
          "data": {
            "text/plain": [
              "age         0\n",
              "sex         0\n",
              "bmi         0\n",
              "children    0\n",
              "smoker      0\n",
              "region      0\n",
              "charges     0\n",
              "dtype: int64"
            ]
          },
          "metadata": {},
          "execution_count": 7
        }
      ]
    },
    {
      "cell_type": "code",
      "source": [
        "# Slicing data\n",
        "df.iloc[430:530,0:2]"
      ],
      "metadata": {
        "colab": {
          "base_uri": "https://localhost:8080/",
          "height": 424
        },
        "id": "v0HXEM0G7XNG",
        "outputId": "d8d25584-7c6d-4615-bf9e-8b5506b9fd7d"
      },
      "execution_count": 8,
      "outputs": [
        {
          "output_type": "execute_result",
          "data": {
            "text/plain": [
              "     age     sex\n",
              "430   19    male\n",
              "431   29  female\n",
              "432   42    male\n",
              "433   60  female\n",
              "434   31    male\n",
              "..   ...     ...\n",
              "525   18  female\n",
              "526   19  female\n",
              "527   51  female\n",
              "528   46    male\n",
              "529   18    male\n",
              "\n",
              "[100 rows x 2 columns]"
            ],
            "text/html": [
              "\n",
              "  <div id=\"df-ab6df6d8-efa2-4fae-a106-f8befa7d049e\">\n",
              "    <div class=\"colab-df-container\">\n",
              "      <div>\n",
              "<style scoped>\n",
              "    .dataframe tbody tr th:only-of-type {\n",
              "        vertical-align: middle;\n",
              "    }\n",
              "\n",
              "    .dataframe tbody tr th {\n",
              "        vertical-align: top;\n",
              "    }\n",
              "\n",
              "    .dataframe thead th {\n",
              "        text-align: right;\n",
              "    }\n",
              "</style>\n",
              "<table border=\"1\" class=\"dataframe\">\n",
              "  <thead>\n",
              "    <tr style=\"text-align: right;\">\n",
              "      <th></th>\n",
              "      <th>age</th>\n",
              "      <th>sex</th>\n",
              "    </tr>\n",
              "  </thead>\n",
              "  <tbody>\n",
              "    <tr>\n",
              "      <th>430</th>\n",
              "      <td>19</td>\n",
              "      <td>male</td>\n",
              "    </tr>\n",
              "    <tr>\n",
              "      <th>431</th>\n",
              "      <td>29</td>\n",
              "      <td>female</td>\n",
              "    </tr>\n",
              "    <tr>\n",
              "      <th>432</th>\n",
              "      <td>42</td>\n",
              "      <td>male</td>\n",
              "    </tr>\n",
              "    <tr>\n",
              "      <th>433</th>\n",
              "      <td>60</td>\n",
              "      <td>female</td>\n",
              "    </tr>\n",
              "    <tr>\n",
              "      <th>434</th>\n",
              "      <td>31</td>\n",
              "      <td>male</td>\n",
              "    </tr>\n",
              "    <tr>\n",
              "      <th>...</th>\n",
              "      <td>...</td>\n",
              "      <td>...</td>\n",
              "    </tr>\n",
              "    <tr>\n",
              "      <th>525</th>\n",
              "      <td>18</td>\n",
              "      <td>female</td>\n",
              "    </tr>\n",
              "    <tr>\n",
              "      <th>526</th>\n",
              "      <td>19</td>\n",
              "      <td>female</td>\n",
              "    </tr>\n",
              "    <tr>\n",
              "      <th>527</th>\n",
              "      <td>51</td>\n",
              "      <td>female</td>\n",
              "    </tr>\n",
              "    <tr>\n",
              "      <th>528</th>\n",
              "      <td>46</td>\n",
              "      <td>male</td>\n",
              "    </tr>\n",
              "    <tr>\n",
              "      <th>529</th>\n",
              "      <td>18</td>\n",
              "      <td>male</td>\n",
              "    </tr>\n",
              "  </tbody>\n",
              "</table>\n",
              "<p>100 rows × 2 columns</p>\n",
              "</div>\n",
              "      <button class=\"colab-df-convert\" onclick=\"convertToInteractive('df-ab6df6d8-efa2-4fae-a106-f8befa7d049e')\"\n",
              "              title=\"Convert this dataframe to an interactive table.\"\n",
              "              style=\"display:none;\">\n",
              "        \n",
              "  <svg xmlns=\"http://www.w3.org/2000/svg\" height=\"24px\"viewBox=\"0 0 24 24\"\n",
              "       width=\"24px\">\n",
              "    <path d=\"M0 0h24v24H0V0z\" fill=\"none\"/>\n",
              "    <path d=\"M18.56 5.44l.94 2.06.94-2.06 2.06-.94-2.06-.94-.94-2.06-.94 2.06-2.06.94zm-11 1L8.5 8.5l.94-2.06 2.06-.94-2.06-.94L8.5 2.5l-.94 2.06-2.06.94zm10 10l.94 2.06.94-2.06 2.06-.94-2.06-.94-.94-2.06-.94 2.06-2.06.94z\"/><path d=\"M17.41 7.96l-1.37-1.37c-.4-.4-.92-.59-1.43-.59-.52 0-1.04.2-1.43.59L10.3 9.45l-7.72 7.72c-.78.78-.78 2.05 0 2.83L4 21.41c.39.39.9.59 1.41.59.51 0 1.02-.2 1.41-.59l7.78-7.78 2.81-2.81c.8-.78.8-2.07 0-2.86zM5.41 20L4 18.59l7.72-7.72 1.47 1.35L5.41 20z\"/>\n",
              "  </svg>\n",
              "      </button>\n",
              "      \n",
              "  <style>\n",
              "    .colab-df-container {\n",
              "      display:flex;\n",
              "      flex-wrap:wrap;\n",
              "      gap: 12px;\n",
              "    }\n",
              "\n",
              "    .colab-df-convert {\n",
              "      background-color: #E8F0FE;\n",
              "      border: none;\n",
              "      border-radius: 50%;\n",
              "      cursor: pointer;\n",
              "      display: none;\n",
              "      fill: #1967D2;\n",
              "      height: 32px;\n",
              "      padding: 0 0 0 0;\n",
              "      width: 32px;\n",
              "    }\n",
              "\n",
              "    .colab-df-convert:hover {\n",
              "      background-color: #E2EBFA;\n",
              "      box-shadow: 0px 1px 2px rgba(60, 64, 67, 0.3), 0px 1px 3px 1px rgba(60, 64, 67, 0.15);\n",
              "      fill: #174EA6;\n",
              "    }\n",
              "\n",
              "    [theme=dark] .colab-df-convert {\n",
              "      background-color: #3B4455;\n",
              "      fill: #D2E3FC;\n",
              "    }\n",
              "\n",
              "    [theme=dark] .colab-df-convert:hover {\n",
              "      background-color: #434B5C;\n",
              "      box-shadow: 0px 1px 3px 1px rgba(0, 0, 0, 0.15);\n",
              "      filter: drop-shadow(0px 1px 2px rgba(0, 0, 0, 0.3));\n",
              "      fill: #FFFFFF;\n",
              "    }\n",
              "  </style>\n",
              "\n",
              "      <script>\n",
              "        const buttonEl =\n",
              "          document.querySelector('#df-ab6df6d8-efa2-4fae-a106-f8befa7d049e button.colab-df-convert');\n",
              "        buttonEl.style.display =\n",
              "          google.colab.kernel.accessAllowed ? 'block' : 'none';\n",
              "\n",
              "        async function convertToInteractive(key) {\n",
              "          const element = document.querySelector('#df-ab6df6d8-efa2-4fae-a106-f8befa7d049e');\n",
              "          const dataTable =\n",
              "            await google.colab.kernel.invokeFunction('convertToInteractive',\n",
              "                                                     [key], {});\n",
              "          if (!dataTable) return;\n",
              "\n",
              "          const docLinkHtml = 'Like what you see? Visit the ' +\n",
              "            '<a target=\"_blank\" href=https://colab.research.google.com/notebooks/data_table.ipynb>data table notebook</a>'\n",
              "            + ' to learn more about interactive tables.';\n",
              "          element.innerHTML = '';\n",
              "          dataTable['output_type'] = 'display_data';\n",
              "          await google.colab.output.renderOutput(dataTable, element);\n",
              "          const docLink = document.createElement('div');\n",
              "          docLink.innerHTML = docLinkHtml;\n",
              "          element.appendChild(docLink);\n",
              "        }\n",
              "      </script>\n",
              "    </div>\n",
              "  </div>\n",
              "  "
            ]
          },
          "metadata": {},
          "execution_count": 8
        }
      ]
    },
    {
      "cell_type": "code",
      "source": [
        "print(\"Total Number of unique values: \")\n",
        "print(\"age: \"+str(df[\"age\"].nunique()))\n",
        "print(\"sex: \"+str(df[\"sex\"].nunique()))\n",
        "print(\"bmi: \"+str(df[\"bmi\"].nunique()))\n",
        "print(\"children: \"+str(df[\"children\"].nunique()))\n",
        "print(\"smoker: \"+str(df[\"smoker\"].nunique()))\n",
        "print(\"region: \"+str(df[\"region\"].nunique()))\n",
        "print(\"Charge: \"+str(df[\"charges\"].nunique()))"
      ],
      "metadata": {
        "colab": {
          "base_uri": "https://localhost:8080/"
        },
        "id": "7Guv-KpD71id",
        "outputId": "20d6c5c6-bdef-4f52-91d7-90450b06160a"
      },
      "execution_count": 9,
      "outputs": [
        {
          "output_type": "stream",
          "name": "stdout",
          "text": [
            "Total Number of unique values: \n",
            "age: 47\n",
            "sex: 2\n",
            "bmi: 548\n",
            "children: 6\n",
            "smoker: 2\n",
            "region: 4\n",
            "Charge: 1337\n"
          ]
        }
      ]
    },
    {
      "cell_type": "code",
      "source": [
        "print(\"Unique values: \\n\\n\")\n",
        "print(\"Age: \",df['age'].unique(),\"\\n\")\n",
        "print(\"sex: \",df['sex'].unique(),\"\\n\")\n",
        "print(\"children: \",df['children'].unique(),\"\\n\")\n",
        "print(\"smoker: \",df['smoker'].unique(),\"\\n\")\n",
        "print(\"region: \",df['region'].unique(),\"\\n\")"
      ],
      "metadata": {
        "colab": {
          "base_uri": "https://localhost:8080/"
        },
        "id": "TUOApaKG89nJ",
        "outputId": "9d037c7e-8ae5-4742-ca1d-78140116e126"
      },
      "execution_count": 10,
      "outputs": [
        {
          "output_type": "stream",
          "name": "stdout",
          "text": [
            "Unique values: \n",
            "\n",
            "\n",
            "Age:  [19 18 28 33 32 31 46 37 60 25 62 23 56 27 52 30 34 59 63 55 22 26 35 24\n",
            " 41 38 36 21 48 40 58 53 43 64 20 61 44 57 29 45 54 49 47 51 42 50 39] \n",
            "\n",
            "sex:  ['female' 'male'] \n",
            "\n",
            "children:  [0 1 3 2 5 4] \n",
            "\n",
            "smoker:  ['yes' 'no'] \n",
            "\n",
            "region:  ['southwest' 'southeast' 'northwest' 'northeast'] \n",
            "\n"
          ]
        }
      ]
    },
    {
      "cell_type": "code",
      "source": [
        "# Number of occurance of every unique element in \"age\"\n",
        "df.groupby('age',sort = False).size()"
      ],
      "metadata": {
        "colab": {
          "base_uri": "https://localhost:8080/"
        },
        "id": "RVmhWZ8QC6Lq",
        "outputId": "d3139c97-5d13-4f46-c772-032d50b599da"
      },
      "execution_count": 11,
      "outputs": [
        {
          "output_type": "execute_result",
          "data": {
            "text/plain": [
              "age\n",
              "19    68\n",
              "18    69\n",
              "28    28\n",
              "33    26\n",
              "32    26\n",
              "31    27\n",
              "46    29\n",
              "37    25\n",
              "60    23\n",
              "25    28\n",
              "62    23\n",
              "23    28\n",
              "56    26\n",
              "27    28\n",
              "52    29\n",
              "30    27\n",
              "34    26\n",
              "59    25\n",
              "63    23\n",
              "55    26\n",
              "22    28\n",
              "26    28\n",
              "35    25\n",
              "24    28\n",
              "41    27\n",
              "38    25\n",
              "36    25\n",
              "21    28\n",
              "48    29\n",
              "40    27\n",
              "58    25\n",
              "53    28\n",
              "43    27\n",
              "64    22\n",
              "20    29\n",
              "61    23\n",
              "44    27\n",
              "57    26\n",
              "29    27\n",
              "45    29\n",
              "54    28\n",
              "49    28\n",
              "47    29\n",
              "51    29\n",
              "42    27\n",
              "50    29\n",
              "39    25\n",
              "dtype: int64"
            ]
          },
          "metadata": {},
          "execution_count": 11
        }
      ]
    },
    {
      "cell_type": "code",
      "source": [
        "# Number of occurance of every unique element in \"sex\"\n",
        "df.groupby('sex',sort = False).size()"
      ],
      "metadata": {
        "colab": {
          "base_uri": "https://localhost:8080/"
        },
        "id": "rfOUWvu3eBO9",
        "outputId": "fff2fd79-7223-4acd-c86e-5b2637369f87"
      },
      "execution_count": 12,
      "outputs": [
        {
          "output_type": "execute_result",
          "data": {
            "text/plain": [
              "sex\n",
              "female    662\n",
              "male      676\n",
              "dtype: int64"
            ]
          },
          "metadata": {},
          "execution_count": 12
        }
      ]
    },
    {
      "cell_type": "code",
      "source": [
        "# Number of occurance of every unique element in \"children\"\n",
        "df.groupby('children',sort = False).size()"
      ],
      "metadata": {
        "colab": {
          "base_uri": "https://localhost:8080/"
        },
        "id": "g5VX9B6-eDvV",
        "outputId": "196e615b-42f9-4c38-d366-3510a71edffa"
      },
      "execution_count": 13,
      "outputs": [
        {
          "output_type": "execute_result",
          "data": {
            "text/plain": [
              "children\n",
              "0    574\n",
              "1    324\n",
              "3    157\n",
              "2    240\n",
              "5     18\n",
              "4     25\n",
              "dtype: int64"
            ]
          },
          "metadata": {},
          "execution_count": 13
        }
      ]
    },
    {
      "cell_type": "code",
      "source": [
        "# Number of occurance of every unique element in \"smoker\"\n",
        "df.groupby('smoker',sort = False).size()"
      ],
      "metadata": {
        "colab": {
          "base_uri": "https://localhost:8080/"
        },
        "id": "hDb9WbKFeFmf",
        "outputId": "a7d82be9-3a91-483d-bd8b-7305f790a974"
      },
      "execution_count": 14,
      "outputs": [
        {
          "output_type": "execute_result",
          "data": {
            "text/plain": [
              "smoker\n",
              "yes     274\n",
              "no     1064\n",
              "dtype: int64"
            ]
          },
          "metadata": {},
          "execution_count": 14
        }
      ]
    },
    {
      "cell_type": "code",
      "source": [
        "# Number of occurance of every unique element in \"region\"\n",
        "df.groupby('region',sort = False).size()"
      ],
      "metadata": {
        "colab": {
          "base_uri": "https://localhost:8080/"
        },
        "id": "HIhLwZsHeIEW",
        "outputId": "baef24cb-7852-4bee-8799-2698c1e79cc5"
      },
      "execution_count": 15,
      "outputs": [
        {
          "output_type": "execute_result",
          "data": {
            "text/plain": [
              "region\n",
              "southwest    325\n",
              "southeast    364\n",
              "northwest    325\n",
              "northeast    324\n",
              "dtype: int64"
            ]
          },
          "metadata": {},
          "execution_count": 15
        }
      ]
    },
    {
      "cell_type": "markdown",
      "source": [
        "## Step 3. Data Visualization"
      ],
      "metadata": {
        "id": "ZxHSsdMBcZMv"
      }
    },
    {
      "cell_type": "code",
      "source": [
        "# Pie chart for smokers and non smokers\n",
        "smoker = df.groupby('smoker',sort = False).size()\n",
        "labels = [\"Smokers\", \"Non Smokers\"]\n",
        "explode = [0.2, 0]\n",
        "plt.figure(figsize=(7,7))\n",
        "plt.pie(smoker, labels=labels, explode=explode, shadow=True, autopct=\"%1.1f%%\")\n",
        "plt.title(\"Percentage of smokers\")"
      ],
      "metadata": {
        "colab": {
          "base_uri": "https://localhost:8080/",
          "height": 444
        },
        "id": "4tAdu8ib6O0X",
        "outputId": "a3758f9a-3b2e-4791-8866-7abfe7fec5d8"
      },
      "execution_count": 16,
      "outputs": [
        {
          "output_type": "execute_result",
          "data": {
            "text/plain": [
              "Text(0.5, 1.0, 'Percentage of smokers')"
            ]
          },
          "metadata": {},
          "execution_count": 16
        },
        {
          "output_type": "display_data",
          "data": {
            "text/plain": [
              "<Figure size 504x504 with 1 Axes>"
            ],
            "image/png": "[encoded data removed]"
          },
          "metadata": {}
        }
      ]
    },
    {
      "cell_type": "code",
      "source": [
        "# Pie chart for gender distribution\n",
        "gender = df.groupby('sex',sort = False).size()\n",
        "labels = [\"Female\", \"Male\"]\n",
        "plt.figure(figsize=(7,7))\n",
        "plt.pie(gender, labels=labels, shadow=True, autopct=\"%1.1f%%\")\n",
        "plt.title(\"Gender Distribution\")"
      ],
      "metadata": {
        "id": "o5NZlBmrOEGW",
        "colab": {
          "base_uri": "https://localhost:8080/",
          "height": 444
        },
        "outputId": "9df9041a-e4f4-46f6-c455-0b5b85c253f8"
      },
      "execution_count": 17,
      "outputs": [
        {
          "output_type": "execute_result",
          "data": {
            "text/plain": [
              "Text(0.5, 1.0, 'Gender Distribution')"
            ]
          },
          "metadata": {},
          "execution_count": 17
        },
        {
          "output_type": "display_data",
          "data": {
            "text/plain": [
              "<Figure size 504x504 with 1 Axes>"
            ],
            "image/png": "[encoded data removed]"
          },
          "metadata": {}
        }
      ]
    },
    {
      "cell_type": "code",
      "source": [
        "# Visualizing number of male and female smokers\n",
        "sb.countplot(x='sex',data=df[(df.smoker==\"yes\")])\n",
        "plt.title(\"Number of male and female smokers\")"
      ],
      "metadata": {
        "colab": {
          "base_uri": "https://localhost:8080/",
          "height": 312
        },
        "id": "yZXKTzor2mL-",
        "outputId": "a64c7ed3-2536-40aa-c634-31a1916eee9d"
      },
      "execution_count": 18,
      "outputs": [
        {
          "output_type": "execute_result",
          "data": {
            "text/plain": [
              "Text(0.5, 1.0, 'Number of male and female smokers')"
            ]
          },
          "metadata": {},
          "execution_count": 18
        },
        {
          "output_type": "display_data",
          "data": {
            "text/plain": [
              "<Figure size 432x288 with 1 Axes>"
            ],
            "image/png": "[encoded data removed]"
          },
          "metadata": {
            "needs_background": "light"
          }
        }
      ]
    },
    {
      "cell_type": "code",
      "source": [
        "# Visualization to see the amount of patients in different age group\n",
        "plt.figure(figsize=(15,7))\n",
        "plt.bar(df[\"age\"].unique(), df.groupby('age',sort = False).size())\n",
        "plt.title(\"No. of patients in a particular age group\")\n",
        "plt.xlabel('Age')\n",
        "plt.ylabel('No. of Patients')"
      ],
      "metadata": {
        "colab": {
          "base_uri": "https://localhost:8080/",
          "height": 475
        },
        "id": "ZLVp4g7r2YnX",
        "outputId": "62a1ba6a-f004-48bb-eb7c-352472cc5e2a"
      },
      "execution_count": 19,
      "outputs": [
        {
          "output_type": "execute_result",
          "data": {
            "text/plain": [
              "Text(0, 0.5, 'No. of Patients')"
            ]
          },
          "metadata": {},
          "execution_count": 19
        },
        {
          "output_type": "display_data",
          "data": {
            "text/plain": [
              "<Figure size 1080x504 with 1 Axes>"
            ],
            "image/png": "[encoded data removed]"
          },
          "metadata": {
            "needs_background": "light"
          }
        }
      ]
    },
    {
      "cell_type": "code",
      "source": [
        "# Visualizing number of smokers in different age gorup\n",
        "plt.figure(figsize=(14,7))\n",
        "plt.title(\"Number of smokers in different ages\")\n",
        "sb.countplot(x='age',data=df[(df.smoker==\"yes\")])\n",
        "plt.grid()"
      ],
      "metadata": {
        "colab": {
          "base_uri": "https://localhost:8080/",
          "height": 458
        },
        "id": "9o_alR2crYie",
        "outputId": "91ee9978-ae72-48b1-d9db-b3187dbf20fd"
      },
      "execution_count": 20,
      "outputs": [
        {
          "output_type": "display_data",
          "data": {
            "text/plain": [
              "<Figure size 1008x504 with 1 Axes>"
            ],
            "image/png": "[encoded data removed]"
          },
          "metadata": {
            "needs_background": "light"
          }
        }
      ]
    },
    {
      "cell_type": "code",
      "source": [
        "region = df.groupby('region',sort = False).size()\n",
        "labels = [\"southwest\", \"southeast\", \"northwest\", \"northeast\"]\n",
        "plt.figure(figsize=(7,7))\n",
        "plt.pie(region, labels=labels, shadow=True, autopct=\"%1.1f%%\")\n",
        "plt.title(\"Number of people from different region\")"
      ],
      "metadata": {
        "colab": {
          "base_uri": "https://localhost:8080/",
          "height": 444
        },
        "id": "QdiwU-bbuCcW",
        "outputId": "0129262e-8d79-40db-de6e-0fae57450b2a"
      },
      "execution_count": 21,
      "outputs": [
        {
          "output_type": "execute_result",
          "data": {
            "text/plain": [
              "Text(0.5, 1.0, 'Number of people from different region')"
            ]
          },
          "metadata": {},
          "execution_count": 21
        },
        {
          "output_type": "display_data",
          "data": {
            "text/plain": [
              "<Figure size 504x504 with 1 Axes>"
            ],
            "image/png": "[encoded data removed]"
          },
          "metadata": {}
        }
      ]
    },
    {
      "cell_type": "code",
      "source": [
        "# Graph of number of smokers from different regions\n",
        "sb.countplot(x='region',data=df[(df.smoker==\"yes\")])\n",
        "plt.title(\"Number of smokers from different regions\")"
      ],
      "metadata": {
        "colab": {
          "base_uri": "https://localhost:8080/",
          "height": 312
        },
        "id": "NQfU27rx1s3_",
        "outputId": "e55591ed-47bb-48ad-a537-b98deca68e6b"
      },
      "execution_count": 22,
      "outputs": [
        {
          "output_type": "execute_result",
          "data": {
            "text/plain": [
              "Text(0.5, 1.0, 'Number of smokers from different regions')"
            ]
          },
          "metadata": {},
          "execution_count": 22
        },
        {
          "output_type": "display_data",
          "data": {
            "text/plain": [
              "<Figure size 432x288 with 1 Axes>"
            ],
            "image/png": "[encoded data removed]"
          },
          "metadata": {
            "needs_background": "light"
          }
        }
      ]
    },
    {
      "cell_type": "code",
      "source": [
        "# Scatter plot to see the relation between age and charges\n",
        "plt.scatter(df['age'], df['charges'])"
      ],
      "metadata": {
        "colab": {
          "base_uri": "https://localhost:8080/",
          "height": 282
        },
        "id": "tj4rgcLvV4OE",
        "outputId": "f86ed074-9809-4548-b151-4c70911ef619"
      },
      "execution_count": 23,
      "outputs": [
        {
          "output_type": "execute_result",
          "data": {
            "text/plain": [
              "<matplotlib.collections.PathCollection at 0x7f6ccfd37fd0>"
            ]
          },
          "metadata": {},
          "execution_count": 23
        },
        {
          "output_type": "display_data",
          "data": {
            "text/plain": [
              "<Figure size 432x288 with 1 Axes>"
            ],
            "image/png": "[encoded data removed]"
          },
          "metadata": {
            "needs_background": "light"
          }
        }
      ]
    },
    {
      "cell_type": "markdown",
      "source": [
        "## Step 4. Divide data into input and output"
      ],
      "metadata": {
        "id": "Eb9k0r6S62mH"
      }
    },
    {
      "cell_type": "code",
      "source": [
        "# Before dividing data we first convert Ordinal Data to Numerical Data\n",
        "Numerical_sex = {'male': 1, 'female': 2}\n",
        "Numerical_smoker = {'yes': 1, 'no': 2}\n",
        "Numerical_region = {'southwest': 1, 'southeast': 2, 'northwest': 3, 'northeast': 4}"
      ],
      "metadata": {
        "id": "oAipNQHTj-XM"
      },
      "execution_count": 24,
      "outputs": []
    },
    {
      "cell_type": "code",
      "source": [
        "df['sex'] = df['sex'].map(Numerical_sex)\n",
        "df['smoker'] = df['smoker'].map(Numerical_smoker)\n",
        "df['region'] = df['region'].map(Numerical_region)\n",
        "df"
      ],
      "metadata": {
        "colab": {
          "base_uri": "https://localhost:8080/",
          "height": 424
        },
        "id": "WGWXFVqQj_HE",
        "outputId": "c3d6653c-ab53-4c0f-eaca-e5a1a07d9095"
      },
      "execution_count": 25,
      "outputs": [
        {
          "output_type": "execute_result",
          "data": {
            "text/plain": [
              "      age  sex     bmi  children  smoker  region      charges\n",
              "0      19    2  27.900         0       1       1  16884.92400\n",
              "1      18    1  33.770         1       2       2   1725.55230\n",
              "2      28    1  33.000         3       2       2   4449.46200\n",
              "3      33    1  22.705         0       2       3  21984.47061\n",
              "4      32    1  28.880         0       2       3   3866.85520\n",
              "...   ...  ...     ...       ...     ...     ...          ...\n",
              "1333   50    1  30.970         3       2       3  10600.54830\n",
              "1334   18    2  31.920         0       2       4   2205.98080\n",
              "1335   18    2  36.850         0       2       2   1629.83350\n",
              "1336   21    2  25.800         0       2       1   2007.94500\n",
              "1337   61    2  29.070         0       1       3  29141.36030\n",
              "\n",
              "[1338 rows x 7 columns]"
            ],
            "text/html": [
              "\n",
              "  <div id=\"df-a9d32dd7-6b93-4928-b6fe-ed8fb8ef2670\">\n",
              "    <div class=\"colab-df-container\">\n",
              "      <div>\n",
              "<style scoped>\n",
              "    .dataframe tbody tr th:only-of-type {\n",
              "        vertical-align: middle;\n",
              "    }\n",
              "\n",
              "    .dataframe tbody tr th {\n",
              "        vertical-align: top;\n",
              "    }\n",
              "\n",
              "    .dataframe thead th {\n",
              "        text-align: right;\n",
              "    }\n",
              "</style>\n",
              "<table border=\"1\" class=\"dataframe\">\n",
              "  <thead>\n",
              "    <tr style=\"text-align: right;\">\n",
              "      <th></th>\n",
              "      <th>age</th>\n",
              "      <th>sex</th>\n",
              "      <th>bmi</th>\n",
              "      <th>children</th>\n",
              "      <th>smoker</th>\n",
              "      <th>region</th>\n",
              "      <th>charges</th>\n",
              "    </tr>\n",
              "  </thead>\n",
              "  <tbody>\n",
              "    <tr>\n",
              "      <th>0</th>\n",
              "      <td>19</td>\n",
              "      <td>2</td>\n",
              "      <td>27.900</td>\n",
              "      <td>0</td>\n",
              "      <td>1</td>\n",
              "      <td>1</td>\n",
              "      <td>16884.92400</td>\n",
              "    </tr>\n",
              "    <tr>\n",
              "      <th>1</th>\n",
              "      <td>18</td>\n",
              "      <td>1</td>\n",
              "      <td>33.770</td>\n",
              "      <td>1</td>\n",
              "      <td>2</td>\n",
              "      <td>2</td>\n",
              "      <td>1725.55230</td>\n",
              "    </tr>\n",
              "    <tr>\n",
              "      <th>2</th>\n",
              "      <td>28</td>\n",
              "      <td>1</td>\n",
              "      <td>33.000</td>\n",
              "      <td>3</td>\n",
              "      <td>2</td>\n",
              "      <td>2</td>\n",
              "      <td>4449.46200</td>\n",
              "    </tr>\n",
              "    <tr>\n",
              "      <th>3</th>\n",
              "      <td>33</td>\n",
              "      <td>1</td>\n",
              "      <td>22.705</td>\n",
              "      <td>0</td>\n",
              "      <td>2</td>\n",
              "      <td>3</td>\n",
              "      <td>21984.47061</td>\n",
              "    </tr>\n",
              "    <tr>\n",
              "      <th>4</th>\n",
              "      <td>32</td>\n",
              "      <td>1</td>\n",
              "      <td>28.880</td>\n",
              "      <td>0</td>\n",
              "      <td>2</td>\n",
              "      <td>3</td>\n",
              "      <td>3866.85520</td>\n",
              "    </tr>\n",
              "    <tr>\n",
              "      <th>...</th>\n",
              "      <td>...</td>\n",
              "      <td>...</td>\n",
              "      <td>...</td>\n",
              "      <td>...</td>\n",
              "      <td>...</td>\n",
              "      <td>...</td>\n",
              "      <td>...</td>\n",
              "    </tr>\n",
              "    <tr>\n",
              "      <th>1333</th>\n",
              "      <td>50</td>\n",
              "      <td>1</td>\n",
              "      <td>30.970</td>\n",
              "      <td>3</td>\n",
              "      <td>2</td>\n",
              "      <td>3</td>\n",
              "      <td>10600.54830</td>\n",
              "    </tr>\n",
              "    <tr>\n",
              "      <th>1334</th>\n",
              "      <td>18</td>\n",
              "      <td>2</td>\n",
              "      <td>31.920</td>\n",
              "      <td>0</td>\n",
              "      <td>2</td>\n",
              "      <td>4</td>\n",
              "      <td>2205.98080</td>\n",
              "    </tr>\n",
              "    <tr>\n",
              "      <th>1335</th>\n",
              "      <td>18</td>\n",
              "      <td>2</td>\n",
              "      <td>36.850</td>\n",
              "      <td>0</td>\n",
              "      <td>2</td>\n",
              "      <td>2</td>\n",
              "      <td>1629.83350</td>\n",
              "    </tr>\n",
              "    <tr>\n",
              "      <th>1336</th>\n",
              "      <td>21</td>\n",
              "      <td>2</td>\n",
              "      <td>25.800</td>\n",
              "      <td>0</td>\n",
              "      <td>2</td>\n",
              "      <td>1</td>\n",
              "      <td>2007.94500</td>\n",
              "    </tr>\n",
              "    <tr>\n",
              "      <th>1337</th>\n",
              "      <td>61</td>\n",
              "      <td>2</td>\n",
              "      <td>29.070</td>\n",
              "      <td>0</td>\n",
              "      <td>1</td>\n",
              "      <td>3</td>\n",
              "      <td>29141.36030</td>\n",
              "    </tr>\n",
              "  </tbody>\n",
              "</table>\n",
              "<p>1338 rows × 7 columns</p>\n",
              "</div>\n",
              "      <button class=\"colab-df-convert\" onclick=\"convertToInteractive('df-a9d32dd7-6b93-4928-b6fe-ed8fb8ef2670')\"\n",
              "              title=\"Convert this dataframe to an interactive table.\"\n",
              "              style=\"display:none;\">\n",
              "        \n",
              "  <svg xmlns=\"http://www.w3.org/2000/svg\" height=\"24px\"viewBox=\"0 0 24 24\"\n",
              "       width=\"24px\">\n",
              "    <path d=\"M0 0h24v24H0V0z\" fill=\"none\"/>\n",
              "    <path d=\"M18.56 5.44l.94 2.06.94-2.06 2.06-.94-2.06-.94-.94-2.06-.94 2.06-2.06.94zm-11 1L8.5 8.5l.94-2.06 2.06-.94-2.06-.94L8.5 2.5l-.94 2.06-2.06.94zm10 10l.94 2.06.94-2.06 2.06-.94-2.06-.94-.94-2.06-.94 2.06-2.06.94z\"/><path d=\"M17.41 7.96l-1.37-1.37c-.4-.4-.92-.59-1.43-.59-.52 0-1.04.2-1.43.59L10.3 9.45l-7.72 7.72c-.78.78-.78 2.05 0 2.83L4 21.41c.39.39.9.59 1.41.59.51 0 1.02-.2 1.41-.59l7.78-7.78 2.81-2.81c.8-.78.8-2.07 0-2.86zM5.41 20L4 18.59l7.72-7.72 1.47 1.35L5.41 20z\"/>\n",
              "  </svg>\n",
              "      </button>\n",
              "      \n",
              "  <style>\n",
              "    .colab-df-container {\n",
              "      display:flex;\n",
              "      flex-wrap:wrap;\n",
              "      gap: 12px;\n",
              "    }\n",
              "\n",
              "    .colab-df-convert {\n",
              "      background-color: #E8F0FE;\n",
              "      border: none;\n",
              "      border-radius: 50%;\n",
              "      cursor: pointer;\n",
              "      display: none;\n",
              "      fill: #1967D2;\n",
              "      height: 32px;\n",
              "      padding: 0 0 0 0;\n",
              "      width: 32px;\n",
              "    }\n",
              "\n",
              "    .colab-df-convert:hover {\n",
              "      background-color: #E2EBFA;\n",
              "      box-shadow: 0px 1px 2px rgba(60, 64, 67, 0.3), 0px 1px 3px 1px rgba(60, 64, 67, 0.15);\n",
              "      fill: #174EA6;\n",
              "    }\n",
              "\n",
              "    [theme=dark] .colab-df-convert {\n",
              "      background-color: #3B4455;\n",
              "      fill: #D2E3FC;\n",
              "    }\n",
              "\n",
              "    [theme=dark] .colab-df-convert:hover {\n",
              "      background-color: #434B5C;\n",
              "      box-shadow: 0px 1px 3px 1px rgba(0, 0, 0, 0.15);\n",
              "      filter: drop-shadow(0px 1px 2px rgba(0, 0, 0, 0.3));\n",
              "      fill: #FFFFFF;\n",
              "    }\n",
              "  </style>\n",
              "\n",
              "      <script>\n",
              "        const buttonEl =\n",
              "          document.querySelector('#df-a9d32dd7-6b93-4928-b6fe-ed8fb8ef2670 button.colab-df-convert');\n",
              "        buttonEl.style.display =\n",
              "          google.colab.kernel.accessAllowed ? 'block' : 'none';\n",
              "\n",
              "        async function convertToInteractive(key) {\n",
              "          const element = document.querySelector('#df-a9d32dd7-6b93-4928-b6fe-ed8fb8ef2670');\n",
              "          const dataTable =\n",
              "            await google.colab.kernel.invokeFunction('convertToInteractive',\n",
              "                                                     [key], {});\n",
              "          if (!dataTable) return;\n",
              "\n",
              "          const docLinkHtml = 'Like what you see? Visit the ' +\n",
              "            '<a target=\"_blank\" href=https://colab.research.google.com/notebooks/data_table.ipynb>data table notebook</a>'\n",
              "            + ' to learn more about interactive tables.';\n",
              "          element.innerHTML = '';\n",
              "          dataTable['output_type'] = 'display_data';\n",
              "          await google.colab.output.renderOutput(dataTable, element);\n",
              "          const docLink = document.createElement('div');\n",
              "          docLink.innerHTML = docLinkHtml;\n",
              "          element.appendChild(docLink);\n",
              "        }\n",
              "      </script>\n",
              "    </div>\n",
              "  </div>\n",
              "  "
            ]
          },
          "metadata": {},
          "execution_count": 25
        }
      ]
    },
    {
      "cell_type": "code",
      "source": [
        "# Inputs will be all the columns other than charges\n",
        "# Output will be column charges\n",
        "# x-Input, y-Output\n",
        "x = df.iloc[:1300,:6].values #.values converts the column into an array\n",
        "x"
      ],
      "metadata": {
        "id": "iZfxbEgk7I7U",
        "colab": {
          "base_uri": "https://localhost:8080/"
        },
        "outputId": "c7b45cb9-44dc-4d5b-81d4-2f1044985903"
      },
      "execution_count": 26,
      "outputs": [
        {
          "output_type": "execute_result",
          "data": {
            "text/plain": [
              "array([[19.   ,  2.   , 27.9  ,  0.   ,  1.   ,  1.   ],\n",
              "       [18.   ,  1.   , 33.77 ,  1.   ,  2.   ,  2.   ],\n",
              "       [28.   ,  1.   , 33.   ,  3.   ,  2.   ,  2.   ],\n",
              "       ...,\n",
              "       [28.   ,  2.   , 26.51 ,  2.   ,  2.   ,  2.   ],\n",
              "       [33.   ,  1.   , 27.455,  2.   ,  2.   ,  3.   ],\n",
              "       [19.   ,  2.   , 25.745,  1.   ,  2.   ,  3.   ]])"
            ]
          },
          "metadata": {},
          "execution_count": 26
        }
      ]
    },
    {
      "cell_type": "code",
      "source": [
        "y = df.iloc[:1300, 6].values\n",
        "y"
      ],
      "metadata": {
        "colab": {
          "base_uri": "https://localhost:8080/"
        },
        "id": "L7uzw7H1S2hB",
        "outputId": "1ec0592d-24f8-4fb4-d4ed-d793c55ca278"
      },
      "execution_count": 27,
      "outputs": [
        {
          "output_type": "execute_result",
          "data": {
            "text/plain": [
              "array([16884.924  ,  1725.5523 ,  4449.462  , ...,  4340.4409 ,\n",
              "        5261.46945,  2710.82855])"
            ]
          },
          "metadata": {},
          "execution_count": 27
        }
      ]
    },
    {
      "cell_type": "markdown",
      "source": [
        "## Step 5. Training and Testing data"
      ],
      "metadata": {
        "id": "J5j24LY_a55d"
      }
    },
    {
      "cell_type": "code",
      "source": [
        "# train_test_split (4 variables -i/p training,i/p testing,o/p train,o/p test)\n",
        "# x_train contains all the input values for training the model\n",
        "# y_train contains all the values of charges(output) for triaining the model\n",
        "from sklearn.model_selection import train_test_split\n",
        "x_train, x_test, y_train, y_test = train_test_split(x, y, test_size=0.15, random_state = 0)\n",
        "# Here, 95% of 1300 rows are used for trining purpose and 5% for testing purpose"
      ],
      "metadata": {
        "id": "5bR-7YRCbAYp"
      },
      "execution_count": 28,
      "outputs": []
    },
    {
      "cell_type": "markdown",
      "source": [
        "## Step 6. Running a Regressor"
      ],
      "metadata": {
        "id": "mwYNFSirYOFV"
      }
    },
    {
      "cell_type": "code",
      "source": [
        "# Running Linear Regressor\n",
        "from sklearn.linear_model import LinearRegression\n",
        "model = LinearRegression()"
      ],
      "metadata": {
        "id": "9f1nDMc6T5tC"
      },
      "execution_count": 29,
      "outputs": []
    },
    {
      "cell_type": "markdown",
      "source": [
        "## Step 7. Fitting the model"
      ],
      "metadata": {
        "id": "SoBjeK38Y0nz"
      }
    },
    {
      "cell_type": "code",
      "source": [
        "model.fit(x_train,y_train)"
      ],
      "metadata": {
        "colab": {
          "base_uri": "https://localhost:8080/"
        },
        "id": "Po1Gvr2fl75O",
        "outputId": "77b0370d-fb76-4469-8d7e-bb3c9a2661f0"
      },
      "execution_count": 30,
      "outputs": [
        {
          "output_type": "execute_result",
          "data": {
            "text/plain": [
              "LinearRegression()"
            ]
          },
          "metadata": {},
          "execution_count": 30
        }
      ]
    },
    {
      "cell_type": "markdown",
      "source": [
        "## Step 8. Predict the Output"
      ],
      "metadata": {
        "id": "pJ_ntNFqmQoG"
      }
    },
    {
      "cell_type": "code",
      "source": [
        "# Predicting and printing the predicted values\n",
        "y_pred = model.predict(x_test)\n",
        "y_pred"
      ],
      "metadata": {
        "colab": {
          "base_uri": "https://localhost:8080/"
        },
        "id": "IkiY5EdkmXql",
        "outputId": "8e956c10-678b-4ee6-a4aa-5c287df252cc"
      },
      "execution_count": 31,
      "outputs": [
        {
          "output_type": "execute_result",
          "data": {
            "text/plain": [
              "array([ 2045.07024614,  5848.59055784, 28458.02018365, 13208.92202577,\n",
              "        5016.7182432 , 13146.3707941 ,  3731.13075705, 12724.32075723,\n",
              "        5458.44886438,  5414.05664582, 12317.12553093, 15186.13639053,\n",
              "        1206.55548915, 10043.59688072, 23439.57662038, 39820.84922729,\n",
              "       10213.85094696,  4588.11368353,  5389.04451478,  7706.89947099,\n",
              "        7550.58595128, 33646.18836353,  5362.88965397,   885.04218519,\n",
              "        7722.68953565,  9658.76091175, 16829.15045771, 10829.53186813,\n",
              "        5117.5035044 ,  5653.01171736, 14050.74963277, 12757.04204306,\n",
              "        4976.40967412,  9974.61396777, 33325.92524159, 10873.84622916,\n",
              "       11591.4798774 , 11069.55985613,  4130.55523048,  9589.4544276 ,\n",
              "        6594.34083464,  3762.4336216 , 11322.96917549,  5997.26765471,\n",
              "        1176.13915281, 26752.202584  ,  2121.26334372,  6704.11782569,\n",
              "        6679.16636547, 33008.4879566 , 10936.41846277, 13317.48088508,\n",
              "       36918.93206966,  1726.22887362,  6228.27844967,  -328.68586889,\n",
              "       11506.26527232,  8449.09075827,  5228.09714909, 13633.82806694,\n",
              "       13569.65764156, 23059.14319085,  8841.14499884,  6331.59229365,\n",
              "        4022.56517315,  7158.69601857, 12439.67883097, 40072.96195415,\n",
              "       14795.80505407,  8288.19211845, 38185.02861451,  4596.35334322,\n",
              "        5300.81678791,  5870.54652752, 14841.95261251,   -41.19036987,\n",
              "       29383.92446333, 13569.10520304,  5967.23466379, 36082.49286498,\n",
              "       32365.87029617, 26036.49350122, 25148.50306266, 38334.94301676,\n",
              "       12897.37161404, 12008.33261205,  1700.09983507,  6698.89766261,\n",
              "        2827.44587727, 15114.88682516,  8216.84261517,  9063.02347525,\n",
              "       27949.23877209,  3123.50549611, 12726.5067232 , 30869.646601  ,\n",
              "       31717.27028583, 11763.12746991,  8192.51392452, 33905.02100718,\n",
              "        1150.96498656,  2692.61560517,  3004.34188664,  3741.63418557,\n",
              "       13801.12150975, 10117.92844182,  8255.87139536,  7203.03328321,\n",
              "        5965.00617599,  8163.82995108, 32816.12398455,  9024.10757858,\n",
              "        7009.71979672, 15492.94703451, 11864.32275264, 27046.19425039,\n",
              "       39544.31400251,  2717.13361038,  9832.76656747,  2253.28113843,\n",
              "        6035.58956103,  8227.670102  , 28837.7874635 , 14664.234561  ,\n",
              "       27016.54171689, 24259.65901878,  2626.43558278, 11654.91710743,\n",
              "       11066.51842591, 14987.13383412,  6178.14757706, 15167.44024264,\n",
              "       32115.11714803, 35890.35787639,  7610.14636153, 28753.86283738,\n",
              "       31560.36120252,  8609.52726791, 31735.57021608, 12669.62730136,\n",
              "       35922.17444225,  3943.23801394, 11546.98147416, 38809.14318347,\n",
              "        7787.68760394, 11674.69669797, 16153.56587117,  9128.49812363,\n",
              "        8685.58319022,   443.17293164,  8344.36141167,  9857.5135255 ,\n",
              "       10993.80260233, 16636.79030091,  7245.78113181, 38562.10817205,\n",
              "        9890.87281126,  3755.06144452,  8543.34581906, 13600.33156316,\n",
              "        4104.2154736 ,  5230.63722037,  5442.40652957, 14461.7070098 ,\n",
              "       11534.35136677,  6527.69868207,  5397.9617699 ,  9812.80500718,\n",
              "       11923.37230684, 31532.18098448,  8874.51050074,  8612.34307345,\n",
              "        8509.68546391, 32440.66544899,  3414.28367779,  7257.67854308,\n",
              "        8873.29755607, 13764.48092506, 10565.98284743, 37549.70905826,\n",
              "        5930.38510357,  9079.82908304,  6191.52269671, 11450.94051535,\n",
              "         144.1096498 ,  1012.92991996,   694.41877914, 35180.56759682,\n",
              "       13098.18064899, 37595.4485515 ,  3628.47838921, 10932.27597076,\n",
              "        9710.79299743,  8805.78756182, 11251.90636512])"
            ]
          },
          "metadata": {},
          "execution_count": 31
        }
      ]
    },
    {
      "cell_type": "code",
      "source": [
        "# Actual Values\n",
        "y_test"
      ],
      "metadata": {
        "colab": {
          "base_uri": "https://localhost:8080/"
        },
        "id": "EAGXb7ubnVdT",
        "outputId": "0c261c73-4f39-4bb4-f334-46a16511aef1"
      },
      "execution_count": 32,
      "outputs": [
        {
          "output_type": "execute_result",
          "data": {
            "text/plain": [
              "array([ 3206.49135,  5383.536  , 36307.7983 , 12730.9996 ,  3981.9768 ,\n",
              "       14394.5579 ,  3756.6216 , 10435.06525,  3021.80915,  1986.9334 ,\n",
              "       10928.849  , 11856.4115 ,  2198.18985,  7418.522  , 14283.4594 ,\n",
              "       47496.49445,  6334.34355,  1631.6683 ,  4661.28635,  6113.23105,\n",
              "        6059.173  , 39725.51805,  7133.9025 ,  1969.614  ,  7151.092  ,\n",
              "        8547.6913 , 11576.13   , 25517.11363,  5615.369  ,  4243.59005,\n",
              "       12644.589  , 26392.26029,  1534.3045 ,  7731.4271 , 24520.264  ,\n",
              "        7160.094  ,  8596.8278 , 19749.38338,  2254.7967 ,  5397.6167 ,\n",
              "        9644.2525 ,  4185.0979 , 12479.70895,  3490.5491 ,  2731.9122 ,\n",
              "       16138.76205, 13126.67745,  5969.723  ,  6985.50695, 23568.272  ,\n",
              "       13012.20865, 14382.70905, 44423.803  ,  1635.73365,  2730.10785,\n",
              "       21595.38229,  5438.7491 ,  9361.3268 ,  4561.1885 , 11289.10925,\n",
              "       20630.28351, 20167.33603, 27117.99378,  6198.7518 ,  2867.1196 ,\n",
              "        5148.5526 , 13217.0945 , 48517.56315, 15019.76005,  4320.41085,\n",
              "       46200.9851 ,  4934.705  ,  4894.7533 ,  4562.8421 , 10602.385  ,\n",
              "        1628.4709 , 18972.495  ,  9304.7019 ,  4915.05985, 42303.69215,\n",
              "       23065.4207 , 32548.3405 , 14455.64405, 45710.20785, 10807.4863 ,\n",
              "        9872.701  ,  1744.465  ,  4751.07   ,  4906.40965, 12495.29085,\n",
              "        4518.82625,  5630.45785, 36149.4835 ,  4391.652  , 10370.91255,\n",
              "       20773.62775, 21098.55405, 11658.11505,  8891.1395 , 23967.38305,\n",
              "        2709.24395, 22493.65964, 16586.49771,  1725.5523 ,  9880.068  ,\n",
              "        2927.0647 , 10065.413  ,  1837.2819 ,  3443.064  ,  6664.68595,\n",
              "       23244.7902 ,  3875.7341 ,  6593.5083 , 13919.8229 , 12333.828  ,\n",
              "       36898.73308, 48173.361  ,  1526.312  ,  9447.25035,  1719.4363 ,\n",
              "        4747.0529 ,  6393.60345, 34672.1472 , 10579.711  , 17942.106  ,\n",
              "       26125.67477,  1769.53165,  7162.0122 , 10214.636  , 14692.66935,\n",
              "        7147.105  , 28287.89766, 39611.7577 , 42124.5153 ,  6837.3687 ,\n",
              "       19521.9682 , 22144.032  ,  8604.48365, 37607.5277 , 10115.00885,\n",
              "       42969.8527 ,  2566.4707 , 28923.13692, 47305.305  ,  5976.8311 ,\n",
              "       13112.6048 , 24227.33724,  6796.86325, 10577.087  ,  2803.69785,\n",
              "        3410.324  ,  5428.7277 ,  7371.772  , 14319.031  ,  4504.6624 ,\n",
              "       30184.9367 ,  7633.7206 , 24059.68019, 18963.17192, 11356.6609 ,\n",
              "        3056.3881 , 27375.90478,  2498.4144 , 10736.87075,  9290.1395 ,\n",
              "        3366.6697 ,  5257.50795,  9788.8659 , 11286.5387 , 21223.6758 ,\n",
              "       28340.18885, 11534.87265,  6406.4107 , 40904.1995 ,  2632.992  ,\n",
              "        6555.07035, 19214.70553, 12268.63225, 11150.78   , 45863.205  ,\n",
              "        2217.6012 ,  4673.3922 ,  3925.7582 , 10118.424  ,  1704.5681 ,\n",
              "        3180.5101 ,  2913.569  , 41097.16175,  9048.0273 , 44641.1974 ,\n",
              "        3736.4647 , 10594.50155,  9301.89355,  6358.77645,  9174.13565])"
            ]
          },
          "metadata": {},
          "execution_count": 32
        }
      ]
    },
    {
      "cell_type": "code",
      "source": [
        "m  = model.coef_\n",
        "m"
      ],
      "metadata": {
        "colab": {
          "base_uri": "https://localhost:8080/"
        },
        "id": "WJbmhb3qbyH8",
        "outputId": "6dc4b82a-f4a0-4999-8b4e-cbfb2d7ca791"
      },
      "execution_count": 33,
      "outputs": [
        {
          "output_type": "execute_result",
          "data": {
            "text/plain": [
              "array([   257.50880244,    -62.27549741,    338.26205617,    579.59805178,\n",
              "       -23807.63100271,    314.26924076])"
            ]
          },
          "metadata": {},
          "execution_count": 33
        }
      ]
    },
    {
      "cell_type": "code",
      "source": [
        "C = model.intercept_\n",
        "C"
      ],
      "metadata": {
        "colab": {
          "base_uri": "https://localhost:8080/"
        },
        "id": "nxYf3h-acBwv",
        "outputId": "07002521-578f-47cb-a052-a4d21a9d3943"
      },
      "execution_count": 34,
      "outputs": [
        {
          "output_type": "execute_result",
          "data": {
            "text/plain": [
              "34152.76707433302"
            ]
          },
          "metadata": {},
          "execution_count": 34
        }
      ]
    },
    {
      "cell_type": "code",
      "source": [
        "m *[[61, 2, 29.07, 0, 1, 3]] + C"
      ],
      "metadata": {
        "colab": {
          "base_uri": "https://localhost:8080/"
        },
        "id": "21ff0KjVcSf9",
        "outputId": "6f72e552-7d2b-4581-ce6e-b768d1bfc637"
      },
      "execution_count": 35,
      "outputs": [
        {
          "output_type": "execute_result",
          "data": {
            "text/plain": [
              "array([[49860.80402312, 34028.21607951, 43986.0450472 , 34152.76707433,\n",
              "        10345.13607163, 35095.57479661]])"
            ]
          },
          "metadata": {},
          "execution_count": 35
        }
      ]
    },
    {
      "cell_type": "markdown",
      "source": [
        "## Step 9. Accuracy and Testing"
      ],
      "metadata": {
        "id": "JRrMND6To_SF"
      }
    },
    {
      "cell_type": "markdown",
      "source": [
        "Since, we cannot calculate the accuracy of a Regressor model.\n",
        "\n",
        "We will use explained variance score to check the efficiency of model. \n",
        "\n",
        "Also tuning hyperparameters and training data size might increase the efficiency of the model."
      ],
      "metadata": {
        "id": "w7eRcJPVMGM1"
      }
    },
    {
      "cell_type": "code",
      "source": [
        "# defining functions to calculate the accuracy for different hyperparameters\n",
        "from sklearn.metrics import explained_variance_score\n",
        "def get_model(df, n, test_size=0.05, random_state=0):\n",
        "  x = df.iloc[:n, :6] if n != -1 else df.iloc[:, :6]\n",
        "  y = df.iloc[:n, 6] if n != -1 else df.iloc[:, 6]\n",
        "  x_train, x_test, y_train, y_test = train_test_split(x, y, test_size=test_size, random_state=random_state)\n",
        "  model = LinearRegression()\n",
        "  model.fit(x_train, y_train)\n",
        "  y_pred = model.predict(x_test)\n",
        "  var_score = explained_variance_score(y_test, y_pred)\n",
        "  return model, var_score, n, random_state\n"
      ],
      "metadata": {
        "id": "7Nd4Hv-IMj8O"
      },
      "execution_count": 36,
      "outputs": []
    },
    {
      "cell_type": "code",
      "source": [
        "models = []\n",
        "n_rows = [1300, -1] # taking 1. 1300 rows and 2. all rows\n",
        "random_states = [0, 10, 15, 20, 25, 30, 35, 40] # different random_states\n",
        "test_size = 0.05 # we will always take 95% of rows for training.\n",
        "for n in n_rows:\n",
        "  for random_state in random_states:\n",
        "    models.append(get_model(df, n, test_size, random_state))"
      ],
      "metadata": {
        "id": "hvqTJaCLNlRh"
      },
      "execution_count": 37,
      "outputs": []
    },
    {
      "cell_type": "code",
      "source": [
        "for i in range(len(models)):\n",
        "  print(f'#{i+1} Var-Score: {models[i][1]} N-Rows: {models[i][2]} Random State: {models[i][3]}')"
      ],
      "metadata": {
        "id": "KGwTd0yUPn8u",
        "colab": {
          "base_uri": "https://localhost:8080/"
        },
        "outputId": "e004c47d-df1a-4ef4-a108-2d0e5b9fc336"
      },
      "execution_count": 38,
      "outputs": [
        {
          "output_type": "stream",
          "name": "stdout",
          "text": [
            "#1 Var-Score: 0.6710104255481931 N-Rows: 1300 Random State: 0\n",
            "#2 Var-Score: 0.6231130609290652 N-Rows: 1300 Random State: 10\n",
            "#3 Var-Score: 0.8113378629022707 N-Rows: 1300 Random State: 15\n",
            "#4 Var-Score: 0.8067106149587349 N-Rows: 1300 Random State: 20\n",
            "#5 Var-Score: 0.747463038197012 N-Rows: 1300 Random State: 25\n",
            "#6 Var-Score: 0.7983157477879099 N-Rows: 1300 Random State: 30\n",
            "#7 Var-Score: 0.7805961920167002 N-Rows: 1300 Random State: 35\n",
            "#8 Var-Score: 0.7844809641068943 N-Rows: 1300 Random State: 40\n",
            "#9 Var-Score: 0.7655209857771992 N-Rows: -1 Random State: 0\n",
            "#10 Var-Score: 0.6552692894168122 N-Rows: -1 Random State: 10\n",
            "#11 Var-Score: 0.8225039682214195 N-Rows: -1 Random State: 15\n",
            "#12 Var-Score: 0.7687427221889469 N-Rows: -1 Random State: 20\n",
            "#13 Var-Score: 0.7977650988132132 N-Rows: -1 Random State: 25\n",
            "#14 Var-Score: 0.7530369535308685 N-Rows: -1 Random State: 30\n",
            "#15 Var-Score: 0.7360465676633228 N-Rows: -1 Random State: 35\n",
            "#16 Var-Score: 0.5728526576217838 N-Rows: -1 Random State: 40\n"
          ]
        }
      ]
    },
    {
      "cell_type": "code",
      "source": [
        "# Plotting the Random state v/s Var-Score\n",
        "# for 1300 rows and for all rows\n",
        "random_states = [[model[3] for model in models if model[2] == 1300], [model[3] for model in models if model[2] == -1]]\n",
        "var_scores = [[model[1] for model in models if model[2] == 1300], [model[1] for model in models if model[2] == -1]]\n",
        "\n",
        "plt.subplot(1,2,1)\n",
        "\n",
        "plt.plot(random_states[0], var_scores[0])\n",
        "plt.xlabel('Random States')\n",
        "plt.ylabel('Explained Variance Score')\n",
        "\n",
        "plt.title('1300 rows')\n",
        "\n",
        "plt.subplot(1,2,2)\n",
        "plt.plot(random_states[1], var_scores[1])\n",
        "plt.xlabel('Random States')\n",
        "plt.ylabel('Explained Variance Score')\n",
        "\n",
        "plt.title('All rows')\n",
        "plt.tight_layout()\n",
        "plt.show()"
      ],
      "metadata": {
        "id": "U0Qczi3rQEYf",
        "colab": {
          "base_uri": "https://localhost:8080/",
          "height": 297
        },
        "outputId": "0eb56c5b-1a1f-4169-c5d7-575fe6fd006d"
      },
      "execution_count": 39,
      "outputs": [
        {
          "output_type": "display_data",
          "data": {
            "text/plain": [
              "<Figure size 432x288 with 2 Axes>"
            ],
            "image/png": "[encoded data removed]"
          },
          "metadata": {
            "needs_background": "light"
          }
        }
      ]
    },
    {
      "cell_type": "code",
      "source": [
        "var_scores_all = [model[1] for model in models]\n",
        "best_model = models[var_scores_all.index(max(var_scores_all))]"
      ],
      "metadata": {
        "id": "cUs-rE6yTc4v"
      },
      "execution_count": 40,
      "outputs": []
    },
    {
      "cell_type": "code",
      "source": [
        "best_model"
      ],
      "metadata": {
        "id": "Fr5hG7wpT8zJ",
        "colab": {
          "base_uri": "https://localhost:8080/"
        },
        "outputId": "884584af-3419-485f-fe10-4d267024a40e"
      },
      "execution_count": 41,
      "outputs": [
        {
          "output_type": "execute_result",
          "data": {
            "text/plain": [
              "(LinearRegression(), 0.8225039682214195, -1, 15)"
            ]
          },
          "metadata": {},
          "execution_count": 41
        }
      ]
    },
    {
      "cell_type": "code",
      "source": [
        "# Hence, the best model score is 0.82 with all rows and random_state = 15"
      ],
      "metadata": {
        "id": "-jpb5ddOUBpq"
      },
      "execution_count": 42,
      "outputs": []
    }
  ]
}